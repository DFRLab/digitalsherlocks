{
  "nbformat": 4,
  "nbformat_minor": 0,
  "metadata": {
    "colab": {
      "name": "Advanced-API-360-DS.ipynb",
      "provenance": [],
      "collapsed_sections": []
    },
    "kernelspec": {
      "name": "python3",
      "display_name": "Python 3"
    },
    "language_info": {
      "name": "python"
    }
  },
  "cells": [
    {
      "cell_type": "markdown",
      "metadata": {
        "id": "iKFELFMpjABy"
      },
      "source": [
        "\n",
        "> # **`Advanced API`**"
      ]
    },
    {
      "cell_type": "markdown",
      "metadata": {
        "id": "mQY8skLjjO-y"
      },
      "source": [
        "![](https://static.wixstatic.com/media/9d177c_8a70c01f04e343c897c47522c745f09d~mv2.png/v1/crop/x_0,y_116,w_2623,h_1269/fill/w_1229,h_595,al_c,q_90,usm_0.66_1.00_0.01/360%20Digital%20Sherlocks_Final_Black%20Teal%20l.webp)"
      ]
    },
    {
      "cell_type": "markdown",
      "metadata": {
        "id": "0QGM46qoQft1"
      },
      "source": [
        "### `Colab attrs`"
      ]
    },
    {
      "cell_type": "code",
      "metadata": {
        "id": "bZmh60eUaI93"
      },
      "source": [
        "!ls"
      ],
      "execution_count": null,
      "outputs": []
    },
    {
      "cell_type": "code",
      "metadata": {
        "id": "XO0X70Yu2qWB"
      },
      "source": [
        "!cat /etc/os-release"
      ],
      "execution_count": null,
      "outputs": []
    },
    {
      "cell_type": "code",
      "metadata": {
        "id": "NP-3gLZ2-dus"
      },
      "source": [
        "!python --version"
      ],
      "execution_count": null,
      "outputs": []
    },
    {
      "cell_type": "code",
      "metadata": {
        "id": "J-l2PV-6cQZS"
      },
      "source": [
        ""
      ],
      "execution_count": null,
      "outputs": []
    },
    {
      "cell_type": "markdown",
      "metadata": {
        "id": "zqobSP68cYnb"
      },
      "source": [
        "# `COLAB CONFIGURATION`"
      ]
    },
    {
      "cell_type": "code",
      "metadata": {
        "id": "ZpumO_-wE_jC"
      },
      "source": [
        "import sqlite3"
      ],
      "execution_count": null,
      "outputs": []
    },
    {
      "cell_type": "code",
      "metadata": {
        "id": "zfwX_qyJFCAS"
      },
      "source": [
        "sqlite3.sqlite_version"
      ],
      "execution_count": null,
      "outputs": []
    },
    {
      "cell_type": "markdown",
      "metadata": {
        "id": "zVChDemZdLlO"
      },
      "source": [
        "## `UPGRADE -> Sqlite3 package`"
      ]
    },
    {
      "cell_type": "code",
      "metadata": {
        "id": "jSVbYQLTJ8nK"
      },
      "source": [
        "!curl https://www.sqlite.org/src/tarball/sqlite.tar.gz?r=release | tar xz"
      ],
      "execution_count": null,
      "outputs": []
    },
    {
      "cell_type": "code",
      "metadata": {
        "id": "v9rpGx3IZkhW"
      },
      "source": [
        "%cd sqlite/"
      ],
      "execution_count": null,
      "outputs": []
    },
    {
      "cell_type": "code",
      "metadata": {
        "id": "OTu9lHRJZkkv"
      },
      "source": [
        "!./configure"
      ],
      "execution_count": null,
      "outputs": []
    },
    {
      "cell_type": "code",
      "metadata": {
        "id": "0jIKtl5sZkn7"
      },
      "source": [
        "!make sqlite3.c"
      ],
      "execution_count": null,
      "outputs": []
    },
    {
      "cell_type": "code",
      "metadata": {
        "id": "mHwDUCXhZyu2"
      },
      "source": [
        "%cd /content"
      ],
      "execution_count": null,
      "outputs": []
    },
    {
      "cell_type": "code",
      "metadata": {
        "id": "niWGnYwoaa0v"
      },
      "source": [
        "!ls"
      ],
      "execution_count": null,
      "outputs": []
    },
    {
      "cell_type": "code",
      "metadata": {
        "id": "nklKoGCaaa6J"
      },
      "source": [
        "!npx degit coleifer/pysqlite3 -f"
      ],
      "execution_count": null,
      "outputs": []
    },
    {
      "cell_type": "code",
      "metadata": {
        "id": "Y25mpI0Kamed"
      },
      "source": [
        "!cp sqlite/sqlite3.[ch] ."
      ],
      "execution_count": null,
      "outputs": []
    },
    {
      "cell_type": "code",
      "metadata": {
        "id": "T4_I3rY3amhI"
      },
      "source": [
        "!python setup.py build_static build"
      ],
      "execution_count": null,
      "outputs": []
    },
    {
      "cell_type": "code",
      "metadata": {
        "id": "wPda4GI3amjl"
      },
      "source": [
        "!cp build/lib.linux-x86_64-3.7/pysqlite3/_sqlite3.cpython-37m-x86_64-linux-gnu.so \\\n",
        "     /usr/lib/python3.7/lib-dynload/"
      ],
      "execution_count": null,
      "outputs": []
    },
    {
      "cell_type": "markdown",
      "metadata": {
        "id": "koMeDp6HBU0g"
      },
      "source": [
        "## `!IMPORTANT` **`RESTART`**"
      ]
    },
    {
      "cell_type": "markdown",
      "metadata": {
        "id": "y_lAjSsmEmb9"
      },
      "source": [
        "![](https://cdn.iconscout.com/icon/free/png-256/reload-1912200-1617669.png)"
      ]
    },
    {
      "cell_type": "code",
      "metadata": {
        "id": "aHGs2zDMammW"
      },
      "source": [
        "import sqlite3"
      ],
      "execution_count": null,
      "outputs": []
    },
    {
      "cell_type": "code",
      "metadata": {
        "id": "D7ucd9neamvo"
      },
      "source": [
        "sqlite3.sqlite_version"
      ],
      "execution_count": null,
      "outputs": []
    },
    {
      "cell_type": "code",
      "metadata": {
        "id": "hiS1nht8bDtN"
      },
      "source": [
        ""
      ],
      "execution_count": null,
      "outputs": []
    },
    {
      "cell_type": "markdown",
      "metadata": {
        "id": "957rw60pi9Pi"
      },
      "source": [
        "# `Import` **`digitalsherlocks`** `tool`"
      ]
    },
    {
      "cell_type": "code",
      "metadata": {
        "id": "x-cNFJVWixCm"
      },
      "source": [
        "!wget https://dfrlab.s3.us-west-2.amazonaws.com/AdvancedAPI/digitalsherlocks.tar.gz"
      ],
      "execution_count": null,
      "outputs": []
    },
    {
      "cell_type": "code",
      "metadata": {
        "id": "E2UDLYuA2QNi"
      },
      "source": [
        "!ls"
      ],
      "execution_count": null,
      "outputs": []
    },
    {
      "cell_type": "code",
      "metadata": {
        "id": "WPz9DLJc3ywU"
      },
      "source": [
        "!tar zxvf digitalsherlocks.tar.gz"
      ],
      "execution_count": null,
      "outputs": []
    },
    {
      "cell_type": "code",
      "metadata": {
        "id": "u5Xe00xeSXGP"
      },
      "source": [
        "!ls"
      ],
      "execution_count": null,
      "outputs": []
    },
    {
      "cell_type": "code",
      "metadata": {
        "id": "VoNJErJdSXJE"
      },
      "source": [
        "%cd digitalsherlocks/"
      ],
      "execution_count": null,
      "outputs": []
    },
    {
      "cell_type": "code",
      "metadata": {
        "id": "RPmHME9ISXLn"
      },
      "source": [
        "!ls"
      ],
      "execution_count": null,
      "outputs": []
    },
    {
      "cell_type": "code",
      "metadata": {
        "id": "jpcXOZURuDG1"
      },
      "source": [
        ""
      ],
      "execution_count": null,
      "outputs": []
    },
    {
      "cell_type": "markdown",
      "metadata": {
        "id": "p4VydjALuVDa"
      },
      "source": [
        "## `Install requirements`"
      ]
    },
    {
      "cell_type": "markdown",
      "metadata": {
        "id": "S2_ic-ZruSGO"
      },
      "source": [
        "![](https://maze-rl.readthedocs.io/en/latest/_images/python-pip_logo.png)"
      ]
    },
    {
      "cell_type": "code",
      "metadata": {
        "id": "uWEJznwASxTx"
      },
      "source": [
        "!pip install -r requirements.txt"
      ],
      "execution_count": null,
      "outputs": []
    },
    {
      "cell_type": "markdown",
      "metadata": {
        "id": "Sb6ONxtjuhnX"
      },
      "source": [
        "## `!IMPORTANT` **`RESTART`**"
      ]
    },
    {
      "cell_type": "code",
      "metadata": {
        "id": "4okN7MZKSxbS"
      },
      "source": [
        ""
      ],
      "execution_count": null,
      "outputs": []
    },
    {
      "cell_type": "markdown",
      "metadata": {
        "id": "xrq37yHQzaDv"
      },
      "source": [
        "# `Import packages | libraries | modules`"
      ]
    },
    {
      "cell_type": "code",
      "metadata": {
        "id": "ZzzKvX9q3bV4"
      },
      "source": [
        "from google.colab import drive\n",
        "drive.mount('/content/drive')"
      ],
      "execution_count": null,
      "outputs": []
    },
    {
      "cell_type": "markdown",
      "metadata": {
        "id": "_qFzMhqakx92"
      },
      "source": [
        "## `Connect Google drive`"
      ]
    },
    {
      "cell_type": "code",
      "metadata": {
        "id": "yWwlWwWYzwCa"
      },
      "source": [
        "drive.mount('/gdrive')"
      ],
      "execution_count": null,
      "outputs": []
    },
    {
      "cell_type": "code",
      "metadata": {
        "id": "pBFRjc9tbbYq"
      },
      "source": [
        "!ls"
      ],
      "execution_count": null,
      "outputs": []
    },
    {
      "cell_type": "code",
      "metadata": {
        "id": "Kjicqdo6bhEb"
      },
      "source": [
        "%cd digitalsherlocks/"
      ],
      "execution_count": null,
      "outputs": []
    },
    {
      "cell_type": "code",
      "metadata": {
        "id": "gDTWVdZYbiKx"
      },
      "source": [
        "!ls"
      ],
      "execution_count": null,
      "outputs": []
    },
    {
      "cell_type": "code",
      "metadata": {
        "id": "Hs9qm17pxq-o"
      },
      "source": [
        ""
      ],
      "execution_count": null,
      "outputs": []
    },
    {
      "cell_type": "markdown",
      "metadata": {
        "id": "4UWB8HtHxrFh"
      },
      "source": [
        "## `Define variables`"
      ]
    },
    {
      "cell_type": "code",
      "metadata": {
        "id": "o3mD6uLGzxVr"
      },
      "source": [
        "workspace = '/gdrive/My Drive/DFRLab/Advanced API/'\n",
        "sqlfile_search_data = '/content/digitalsherlocks/sql/db_tables.sql'\n",
        "sqlfile_user_connections = '/content/digitalsherlocks/sql/user_connections_tables.sql'"
      ],
      "execution_count": null,
      "outputs": []
    },
    {
      "cell_type": "code",
      "metadata": {
        "id": "5FmjxDv0ViTg"
      },
      "source": [
        "!python main.py"
      ],
      "execution_count": null,
      "outputs": []
    },
    {
      "cell_type": "code",
      "metadata": {
        "id": "NgjqMQ-RYhAX"
      },
      "source": [
        ""
      ],
      "execution_count": null,
      "outputs": []
    },
    {
      "cell_type": "markdown",
      "metadata": {
        "id": "5INbgQgo3dHK"
      },
      "source": [
        "# **`Export data`**"
      ]
    },
    {
      "cell_type": "code",
      "metadata": {
        "id": "BRf0EzRx--pk"
      },
      "source": [
        "!ls"
      ],
      "execution_count": null,
      "outputs": []
    },
    {
      "cell_type": "code",
      "metadata": {
        "id": "zaM-Y1U8--28"
      },
      "source": [
        "!python export.py -h"
      ],
      "execution_count": null,
      "outputs": []
    },
    {
      "cell_type": "code",
      "metadata": {
        "id": "91Kw0pMF3lbw"
      },
      "source": [
        "!python export.py --database \"/gdrive/My Drive/DFRLab/Advanced API/data/data.db\" -o \"/gdrive/My Drive/DFRLab/Advanced API/\" -t tweet -f xlsx"
      ],
      "execution_count": null,
      "outputs": []
    },
    {
      "cell_type": "code",
      "metadata": {
        "id": "jbSra3rQ5qQT"
      },
      "source": [
        ""
      ],
      "execution_count": null,
      "outputs": []
    },
    {
      "cell_type": "markdown",
      "metadata": {
        "id": "EfVD_Ym45qvW"
      },
      "source": [
        "# `Build a network dataset`"
      ]
    },
    {
      "cell_type": "code",
      "metadata": {
        "id": "z1GV4bNT517V"
      },
      "source": [
        "!ls"
      ],
      "execution_count": null,
      "outputs": []
    },
    {
      "cell_type": "code",
      "metadata": {
        "id": "TtEA_nDi5qjV"
      },
      "source": [
        "!python network.py -h"
      ],
      "execution_count": null,
      "outputs": []
    },
    {
      "cell_type": "code",
      "metadata": {
        "id": "S1XSz4oB530D"
      },
      "source": [
        "!python network.py -d \"/gdrive/My Drive/DFRLab/Advanced API/data/data.db\" -o \"/gdrive/My Drive/DFRLab/Advanced API/\""
      ],
      "execution_count": null,
      "outputs": []
    },
    {
      "cell_type": "code",
      "metadata": {
        "id": "wX4RTanp6JKE"
      },
      "source": [
        ""
      ],
      "execution_count": null,
      "outputs": []
    },
    {
      "cell_type": "markdown",
      "metadata": {
        "id": "5qge-biP8lW_"
      },
      "source": [
        "# `Download user connections (followers / friends)`"
      ]
    },
    {
      "cell_type": "code",
      "metadata": {
        "id": "NFydPuqC8uXD"
      },
      "source": [
        "!ls"
      ],
      "execution_count": null,
      "outputs": []
    },
    {
      "cell_type": "code",
      "metadata": {
        "id": "eGdjgYA78mA7"
      },
      "source": [
        "!python main.py"
      ],
      "execution_count": null,
      "outputs": []
    },
    {
      "cell_type": "code",
      "metadata": {
        "id": "m7ML7LOZ8vts"
      },
      "source": [
        ""
      ],
      "execution_count": null,
      "outputs": []
    }
  ]
}